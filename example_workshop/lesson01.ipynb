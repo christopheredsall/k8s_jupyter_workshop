{
 "cells": [
  {
   "cell_type": "markdown",
   "metadata": {},
   "source": [
    "# This is our example lesson 1\n",
    "\n",
    "You should start a workshop with an overview of what you expect the students will learn. I like to think of it as a learning journey. You have a starting point (the pre-requisites) and then a series of steps until you reach the learning output (the thing you want to student to know).\n",
    "\n",
    "For example, this workshop-in-a-workshop will teach you how to generate and display QR codes, such as those used to work with one-time-password authenticator apps. This workshop assumes a basic knowledge of Python and Jupyter notebooks, and will give you the skills to both generate and then view a QR code of your design.\n",
    "\n",
    "The lessons are:\n",
    "\n",
    "* [How to generate a QR code (this notebook)](lesson01.ipynb)\n",
    "* [How to view the QR code as an image](lesson02.ipynb)\n",
    "* [What next?](lesson03_whatnext.ipynb)\n",
    "\n",
    "First, you need to learn how to generate a QR code. In Python we can do this using the [python-qrcode](https://github.com/lincolnloop/python-qrcode) library."
   ]
  },
  {
   "cell_type": "code",
   "execution_count": null,
   "metadata": {},
   "outputs": [],
   "source": [
    "import qrcode"
   ]
  },
  {
   "cell_type": "markdown",
   "metadata": {},
   "source": [
    "You generate QR codes using the `make` function, e.g."
   ]
  },
  {
   "cell_type": "code",
   "execution_count": null,
   "metadata": {},
   "outputs": [],
   "source": [
    "img = qrcode.make(\"This is some text\")"
   ]
  },
  {
   "cell_type": "markdown",
   "metadata": {},
   "source": [
    "The returned object is a Python PIL image, which can be viewed natively in Jupyter, e.g."
   ]
  },
  {
   "cell_type": "code",
   "execution_count": null,
   "metadata": {},
   "outputs": [],
   "source": [
    "img"
   ]
  },
  {
   "cell_type": "markdown",
   "metadata": {},
   "source": [
    "You can control the QR code using the `QRCode` class, e.g."
   ]
  },
  {
   "cell_type": "code",
   "execution_count": null,
   "metadata": {},
   "outputs": [],
   "source": [
    "qr = qrcode.QRCode(\n",
    "        version = 5,\n",
    "        error_correction=qrcode.constants.ERROR_CORRECT_L,\n",
    "        box_size=10,\n",
    "        border=4)\n",
    "qr.add_data(\"This is my text :-)\")\n",
    "qr.make(fit=True)\n",
    "\n",
    "img = qr.make_image(fill_color=\"blue\", back_color=\"red\")\n",
    "img"
   ]
  },
  {
   "cell_type": "markdown",
   "metadata": {},
   "source": [
    "The version parameter is an integer from 1 to 40 that controls the size of the QR code. The fill_color and back_color arguments control the colors that are used for the QR code. For more information on the other parameters see the documentation [here](https://github.com/lincolnloop/python-qrcode). Alternatively, take a look at the in-built documentation below"
   ]
  },
  {
   "cell_type": "code",
   "execution_count": null,
   "metadata": {},
   "outputs": [],
   "source": [
    "help(qrcode.QRCode)"
   ]
  },
  {
   "cell_type": "markdown",
   "metadata": {},
   "source": [
    "Now move onto the [next lesson](lesson02.ipynb)"
   ]
  },
  {
   "cell_type": "code",
   "execution_count": null,
   "metadata": {},
   "outputs": [],
   "source": []
  }
 ],
 "metadata": {
  "kernelspec": {
   "display_name": "Python 3",
   "language": "python",
   "name": "python3"
  },
  "language_info": {
   "codemirror_mode": {
    "name": "ipython",
    "version": 3
   },
   "file_extension": ".py",
   "mimetype": "text/x-python",
   "name": "python",
   "nbconvert_exporter": "python",
   "pygments_lexer": "ipython3",
   "version": "3.6.3"
  }
 },
 "nbformat": 4,
 "nbformat_minor": 2
}
