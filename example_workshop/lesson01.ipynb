{
 "cells": [
  {
   "cell_type": "markdown",
   "metadata": {},
   "source": [
    "# This is our example lesson 1\n",
    "\n",
    "You should start a workshop with an overview of what you expect the students will learn. I like to think of it as a learning journey. You have a starting point (the pre-requisites) and then a series of steps until you reach the learning output (the thing you want to student to know).\n",
    "\n",
    "For example, this workshop-in-a-workshop will teach you how to generate and display QR codes, such as those used to work with one-time-password authenticator apps. This workshop assumes a basic knowledge of Python and Jupyter notebooks, and will give you the skills to both generate and then view a QR code of your design.\n",
    "\n",
    "The lessons are:\n",
    "\n",
    "* [How to generate a QR code (this notebook)](lesson01.ipynb)\n",
    "* [How to view the QR code as an image](lesson02.ipynb)\n",
    "* [What next?](lesson03_whatnext.ipynb)\n",
    "\n",
    "First, you need to learn how to generate a QR code. In Python we can do this using the [python-qrcode](https://github.com/lincolnloop/python-qrcode) library."
   ]
  },
  {
   "cell_type": "code",
   "execution_count": 1,
   "metadata": {},
   "outputs": [
    {
     "ename": "ModuleNotFoundError",
     "evalue": "No module named 'qrcode'",
     "output_type": "error",
     "traceback": [
      "\u001b[0;31m---------------------------------------------------------------------------\u001b[0m",
      "\u001b[0;31mModuleNotFoundError\u001b[0m                       Traceback (most recent call last)",
      "\u001b[0;32m<ipython-input-1-4a3e4e8e3bd6>\u001b[0m in \u001b[0;36m<module>\u001b[0;34m()\u001b[0m\n\u001b[0;32m----> 1\u001b[0;31m \u001b[0;32mimport\u001b[0m \u001b[0mqrcode\u001b[0m\u001b[0;34m\u001b[0m\u001b[0m\n\u001b[0m",
      "\u001b[0;31mModuleNotFoundError\u001b[0m: No module named 'qrcode'"
     ]
    }
   ],
   "source": [
    "import qrcode"
   ]
  },
  {
   "cell_type": "code",
   "execution_count": null,
   "metadata": {},
   "outputs": [],
   "source": []
  }
 ],
 "metadata": {
  "kernelspec": {
   "display_name": "Python 3",
   "language": "python",
   "name": "python3"
  },
  "language_info": {
   "codemirror_mode": {
    "name": "ipython",
    "version": 3
   },
   "file_extension": ".py",
   "mimetype": "text/x-python",
   "name": "python",
   "nbconvert_exporter": "python",
   "pygments_lexer": "ipython3",
   "version": "3.6.3"
  }
 },
 "nbformat": 4,
 "nbformat_minor": 2
}
