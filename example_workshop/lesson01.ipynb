{
 "cells": [
  {
   "cell_type": "markdown",
   "metadata": {},
   "source": [
    "# This is our example lesson 1\n",
    "\n",
    "You should start a workshop with an overview of what you expect the students will learn. I like to think of it as a learning journey. You have a starting point (the pre-requisites) and then a series of steps until you reach the learning output (the thing you want to student to know).\n",
    "\n",
    "For example, this workshop-in-a-workshop will teach you how to generate and display QR codes, such as those used to work with one-time-password authenticator apps. This workshop assumes a basic knowledge of Python and Jupyter notebooks, and will give you the skills to both generate and then view a QR code of your design.\n",
    "\n",
    "The lessons are:\n",
    "\n",
    "* [How to generate a QR code (this notebook)](lesson01.ipynb)\n",
    "* [How to view the QR code as an image](lesson02.ipynb)\n",
    "* [What next?](lesson03_whatnext.ipynb)\n",
    "\n",
    "First, you need to learn how to generate a QR code. In Python we can do this using the [python-qrcode](https://github.com/lincolnloop/python-qrcode) library."
   ]
  },
  {
   "cell_type": "code",
   "execution_count": 1,
   "metadata": {},
   "outputs": [],
   "source": [
    "import qrcode"
   ]
  },
  {
   "cell_type": "markdown",
   "metadata": {},
   "source": [
    "You generate QR codes using the `make` function, e.g."
   ]
  },
  {
   "cell_type": "code",
   "execution_count": 2,
   "metadata": {},
   "outputs": [],
   "source": [
    "img = qrcode.make(\"This is some text\")"
   ]
  },
  {
   "cell_type": "markdown",
   "metadata": {},
   "source": [
    "The returned object is a Python PIL image, which can be viewed natively in Jupyter, e.g."
   ]
  },
  {
   "cell_type": "code",
   "execution_count": 3,
   "metadata": {},
   "outputs": [
    {
     "data": {
      "image/png": "[encoded data removed]",
      "text/plain": [
       "<qrcode.image.pil.PilImage at 0x7fbb40271898>"
      ]
     },
     "execution_count": 3,
     "metadata": {},
     "output_type": "execute_result"
    }
   ],
   "source": [
    "img"
   ]
  },
  {
   "cell_type": "markdown",
   "metadata": {},
   "source": [
    "You can control the QR code using the `QRCode` class, e.g."
   ]
  },
  {
   "cell_type": "code",
   "execution_count": 4,
   "metadata": {},
   "outputs": [
    {
     "data": {
      "image/png": "[encoded data removed]",
      "text/plain": [
       "<qrcode.image.pil.PilImage at 0x7fbb40174f60>"
      ]
     },
     "execution_count": 4,
     "metadata": {},
     "output_type": "execute_result"
    }
   ],
   "source": [
    "qr = qrcode.QRCode(\n",
    "        version = 5,\n",
    "        error_correction=qrcode.constants.ERROR_CORRECT_L,\n",
    "        box_size=10,\n",
    "        border=4)\n",
    "qr.add_data(\"This is my text :-)\")\n",
    "qr.make(fit=True)\n",
    "\n",
    "img = qr.make_image(fill_color=\"blue\", back_color=\"red\")\n",
    "img"
   ]
  },
  {
   "cell_type": "markdown",
   "metadata": {},
   "source": [
    "The version parameter is an integer from 1 to 40 that controls the size of the QR code. The fill_color and back_color arguments control the colors that are used for the QR code. For more information on the other parameters see the documentation [here](https://github.com/lincolnloop/python-qrcode). Alternatively, take a look at the in-built documentation below"
   ]
  },
  {
   "cell_type": "code",
   "execution_count": 5,
   "metadata": {},
   "outputs": [
    {
     "name": "stdout",
     "output_type": "stream",
     "text": [
      "Help on class QRCode in module qrcode.main:\n",
      "\n",
      "class QRCode(builtins.object)\n",
      " |  Methods defined here:\n",
      " |  \n",
      " |  __init__(self, version=None, error_correction=0, box_size=10, border=4, image_factory=None, mask_pattern=None)\n",
      " |      Initialize self.  See help(type(self)) for accurate signature.\n",
      " |  \n",
      " |  add_data(self, data, optimize=20)\n",
      " |      Add data to this QR Code.\n",
      " |      \n",
      " |      :param optimize: Data will be split into multiple chunks to optimize\n",
      " |          the QR size by finding to more compressed modes of at least this\n",
      " |          length. Set to ``0`` to avoid optimizing at all.\n",
      " |  \n",
      " |  best_fit(self, start=None)\n",
      " |      Find the minimum size required to fit in the data.\n",
      " |  \n",
      " |  best_mask_pattern(self)\n",
      " |      Find the most efficient mask pattern.\n",
      " |  \n",
      " |  clear(self)\n",
      " |      Reset the internal data.\n",
      " |  \n",
      " |  get_matrix(self)\n",
      " |      Return the QR Code as a multidimensonal array, including the border.\n",
      " |      \n",
      " |      To return the array without a border, set ``self.border`` to 0 first.\n",
      " |  \n",
      " |  make(self, fit=True)\n",
      " |      Compile the data into a QR Code array.\n",
      " |      \n",
      " |      :param fit: If ``True`` (or if a size has not been provided), find the\n",
      " |          best fit for the data to avoid data overflow errors.\n",
      " |  \n",
      " |  makeImpl(self, test, mask_pattern)\n",
      " |  \n",
      " |  make_image(self, image_factory=None, **kwargs)\n",
      " |      Make an image from the QR Code data.\n",
      " |      \n",
      " |      If the data has not been compiled yet, make it first.\n",
      " |  \n",
      " |  map_data(self, data, mask_pattern)\n",
      " |  \n",
      " |  print_ascii(self, out=None, tty=False, invert=False)\n",
      " |      Output the QR Code using ASCII characters.\n",
      " |      \n",
      " |      :param tty: use fixed TTY color codes (forces invert=True)\n",
      " |      :param invert: invert the ASCII characters (solid <-> transparent)\n",
      " |  \n",
      " |  print_tty(self, out=None)\n",
      " |      Output the QR Code only using TTY colors.\n",
      " |      \n",
      " |      If the data has not been compiled yet, make it first.\n",
      " |  \n",
      " |  setup_position_adjust_pattern(self)\n",
      " |  \n",
      " |  setup_position_probe_pattern(self, row, col)\n",
      " |  \n",
      " |  setup_timing_pattern(self)\n",
      " |  \n",
      " |  setup_type_info(self, test, mask_pattern)\n",
      " |  \n",
      " |  setup_type_number(self, test)\n",
      " |  \n",
      " |  ----------------------------------------------------------------------\n",
      " |  Data descriptors defined here:\n",
      " |  \n",
      " |  __dict__\n",
      " |      dictionary for instance variables (if defined)\n",
      " |  \n",
      " |  __weakref__\n",
      " |      list of weak references to the object (if defined)\n",
      "\n"
     ]
    }
   ],
   "source": [
    "help(qrcode.QRCode)"
   ]
  },
  {
   "cell_type": "markdown",
   "metadata": {},
   "source": [
    "Now move onto the [next lesson](lesson02.ipynb)"
   ]
  },
  {
   "cell_type": "code",
   "execution_count": 7,
   "metadata": {},
   "outputs": [
    {
     "name": "stdout",
     "output_type": "stream",
     "text": [
      "Help on method make_image in module qrcode.main:\n",
      "\n",
      "make_image(image_factory=None, **kwargs) method of qrcode.main.QRCode instance\n",
      "    Make an image from the QR Code data.\n",
      "    \n",
      "    If the data has not been compiled yet, make it first.\n",
      "\n"
     ]
    }
   ],
   "source": [
    "help(qr.make_image)"
   ]
  },
  {
   "cell_type": "code",
   "execution_count": null,
   "metadata": {},
   "outputs": [],
   "source": []
  }
 ],
 "metadata": {
  "kernelspec": {
   "display_name": "Python 3",
   "language": "python",
   "name": "python3"
  },
  "language_info": {
   "codemirror_mode": {
    "name": "ipython",
    "version": 3
   },
   "file_extension": ".py",
   "mimetype": "text/x-python",
   "name": "python",
   "nbconvert_exporter": "python",
   "pygments_lexer": "ipython3",
   "version": "3.6.3"
  }
 },
 "nbformat": 4,
 "nbformat_minor": 2
}
