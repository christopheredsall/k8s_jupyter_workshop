{
 "cells": [
  {
   "cell_type": "markdown",
   "metadata": {},
   "source": [
    "# Finally, the \"What next?\" lesson\n",
    "\n",
    "It is good to finish any workshop with a \"What Next?\" lesson. This will provide links for the learner to go on beyond your workshop and develop a deeper knowledge of the area.\n",
    "\n",
    "For example, here this QR code workshop could be part of teaching the user how to generate one-time-passwords, so perhaps we could link to that, e.g.\n",
    "\n",
    "* To learn how to use QR codes with one-time-passwords generated using authenticators such as Google-Authenticator, follow the instructions on the [Python One Time Password](https://github.com/pyotp/pyotp) project."
   ]
  },
  {
   "cell_type": "code",
   "execution_count": null,
   "metadata": {},
   "outputs": [],
   "source": []
  }
 ],
 "metadata": {
  "kernelspec": {
   "display_name": "Python 3",
   "language": "python",
   "name": "python3"
  },
  "language_info": {
   "codemirror_mode": {
    "name": "ipython",
    "version": 3
   },
   "file_extension": ".py",
   "mimetype": "text/x-python",
   "name": "python",
   "nbconvert_exporter": "python",
   "pygments_lexer": "ipython3",
   "version": "3.6.3"
  }
 },
 "nbformat": 4,
 "nbformat_minor": 2
}
